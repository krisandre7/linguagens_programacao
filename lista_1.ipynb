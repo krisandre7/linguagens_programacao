{
 "cells": [
  {
   "cell_type": "markdown",
   "metadata": {},
   "source": [
    "# Programação Funcional\n",
    "\n",
    "Alunos:\n",
    "- Kristhian André Oliveira Aguilar (22052628)"
   ]
  },
  {
   "cell_type": "code",
   "execution_count": 4,
   "metadata": {},
   "outputs": [
    {
     "name": "stdout",
     "output_type": "stream",
     "text": [
      "3.12.7\n"
     ]
    }
   ],
   "source": [
    "from functools import reduce\n",
    "\n",
    "from platform import python_version\n",
    "print(python_version())"
   ]
  },
  {
   "cell_type": "markdown",
   "metadata": {},
   "source": [
    "# Questão 1"
   ]
  },
  {
   "cell_type": "markdown",
   "metadata": {
    "vscode": {
     "languageId": "plaintext"
    }
   },
   "source": [
    "- **Funções anônimas:** São funções definidas sem um nome específico, geralmente usadas para operações curtas e simples. Também conhecidas como lambdas em algumas linguagens.\n",
    "- **Funções de primeira classe:** São funções tratadas como cidadãos de primeira classe na linguagem, podendo ser atribuídas a variáveis, passadas como argumentos e retornadas por outras funções.\n",
    "- **Funções de alta ordem:** Funções que aceitam outras funções como argumentos e/ou retornam funções como resultado.\n",
    "- **Funções recursivas:** Funções que se chamam a si mesmas para resolver um problema, geralmente dividindo-o em casos menores.\n",
    "- **Funções puras:** Funções que, para os mesmos argumentos, sempre retornam o mesmo resultado e não têm efeitos colaterais observáveis.\n",
    "- **Avaliação preguiçosa:** Estratégia de avaliação onde expressões são avaliadas apenas quando seu valor é realmente necessário.\n",
    "- **Monads:** Estruturas que encapsulam computações e seus efeitos, permitindo a composição de funções que lidam com efeitos colaterais de forma mais controlada.\n",
    "- **Estruturas de dados recursivas:** Estruturas de dados definidas em termos de si mesmas, como listas encadeadas ou árvores."
   ]
  },
  {
   "cell_type": "markdown",
   "metadata": {},
   "source": [
    "# Questão 2"
   ]
  },
  {
   "cell_type": "code",
   "execution_count": 5,
   "metadata": {},
   "outputs": [],
   "source": [
    "def pares(numero: int):\n",
    "    return len([x for x in str(numero) if int(x) % 2 == 0])\n",
    "\n",
    "assert pares(42134513) == 3"
   ]
  },
  {
   "cell_type": "markdown",
   "metadata": {},
   "source": [
    "# Questão 3"
   ]
  },
  {
   "cell_type": "code",
   "execution_count": 6,
   "metadata": {},
   "outputs": [],
   "source": [
    "d = [('branco', 'white'), ('preto', 'black')]"
   ]
  },
  {
   "cell_type": "markdown",
   "metadata": {},
   "source": [
    "## a. dict_has_key"
   ]
  },
  {
   "cell_type": "code",
   "execution_count": 7,
   "metadata": {},
   "outputs": [],
   "source": [
    "def dict_has_key(key, d):\n",
    "    return len([key for x in d if key in x[0]]) > 0\n",
    "\n",
    "assert dict_has_key('branco', d)\n",
    "assert not dict_has_key('verde', d)"
   ]
  },
  {
   "cell_type": "markdown",
   "metadata": {},
   "source": [
    "## b. dict_insert"
   ]
  },
  {
   "cell_type": "code",
   "execution_count": 8,
   "metadata": {},
   "outputs": [],
   "source": [
    "def dict_insert(key, val, d):\n",
    "    return [(x[0], val) if x[0] == key else x for x in d] if dict_has_key(key, d) else d + [(key, val)]\n",
    "\n",
    "assert dict_insert('branco', 'blanch', d) == [('branco', 'blanch'), ('preto', 'black')]\n",
    "assert dict_insert('verde', 'green', d) == [('branco', 'white'), ('preto', 'black'), ('verde', 'green')]"
   ]
  },
  {
   "cell_type": "markdown",
   "metadata": {},
   "source": [
    "## c. dict_get"
   ]
  },
  {
   "cell_type": "code",
   "execution_count": 9,
   "metadata": {},
   "outputs": [],
   "source": [
    "def dict_get(key, d):\n",
    "    return [x[1] for x in d if key == x[0]][0] if dict_has_key(key, d) else None\n",
    "\n",
    "assert dict_get('branco', d) == 'white'\n",
    "assert dict_get('verde', d) == None"
   ]
  },
  {
   "cell_type": "markdown",
   "metadata": {},
   "source": [
    "## d. dict_keys"
   ]
  },
  {
   "cell_type": "code",
   "execution_count": 10,
   "metadata": {},
   "outputs": [],
   "source": [
    "def dict_keys(d):\n",
    "    return [x[0] for x in d]\n",
    "\n",
    "assert dict_keys(d) == ['branco', 'preto']"
   ]
  },
  {
   "cell_type": "markdown",
   "metadata": {},
   "source": [
    "## e. dict_vals"
   ]
  },
  {
   "cell_type": "code",
   "execution_count": 11,
   "metadata": {},
   "outputs": [],
   "source": [
    "def dict_values(d):\n",
    "    return [x[1] for x in d]\n",
    "\n",
    "assert dict_values(d) == ['white', 'black']"
   ]
  },
  {
   "cell_type": "markdown",
   "metadata": {},
   "source": [
    "# Bacará"
   ]
  },
  {
   "cell_type": "markdown",
   "metadata": {},
   "source": [
    "# Questão 4"
   ]
  },
  {
   "cell_type": "code",
   "execution_count": 12,
   "metadata": {},
   "outputs": [],
   "source": [
    "naipes = ['♣', '♢', '♡', '♠']\n",
    "ranks = ['2', '3', '4', '5', '6', '7', '8', '9', '10', 'J', 'Q', 'K', 'A']\n",
    "\n",
    "baralho = [(r, n) for n in naipes for r in ranks]"
   ]
  },
  {
   "cell_type": "markdown",
   "metadata": {},
   "source": [
    "# Questão 5"
   ]
  },
  {
   "cell_type": "code",
   "execution_count": 13,
   "metadata": {},
   "outputs": [],
   "source": [
    "def sem_elemento_k(lista, k):\n",
    "    return [x for i, x in enumerate(lista) if i != k]\n",
    "\n",
    "assert sem_elemento_k([1, 2, 3], 1) == [1, 3]"
   ]
  },
  {
   "cell_type": "markdown",
   "metadata": {},
   "source": [
    "# Questão 6"
   ]
  },
  {
   "cell_type": "code",
   "execution_count": 14,
   "metadata": {},
   "outputs": [
    {
     "data": {
      "text/plain": [
       "[3, 1, 5, 4, 2]"
      ]
     },
     "execution_count": 14,
     "metadata": {},
     "output_type": "execute_result"
    }
   ],
   "source": [
    "from random import randint\n",
    "\n",
    "# use recursion and sem_elemento_k to shuffle a list\n",
    "def deque_embaralhado(lst):\n",
    "    if len(lst) == 0:\n",
    "        return []\n",
    "    k = randint(0, len(lst) - 1)\n",
    "    return [lst[k]] + deque_embaralhado(sem_elemento_k(lst, k))\n",
    "\n",
    "deque_embaralhado([1, 2, 3, 4, 5])"
   ]
  },
  {
   "cell_type": "markdown",
   "metadata": {},
   "source": [
    "# Questão 7"
   ]
  },
  {
   "cell_type": "code",
   "execution_count": 15,
   "metadata": {},
   "outputs": [],
   "source": [
    "def lista(lst):\n",
    "    return reduce(lambda x, y: x + f\"{y[0]}{y[1]} \", lst, '')[:-1]\n",
    "assert lista([('J','♡'),('5','§'),('10','♢')]) == 'J♡ 5§ 10♢'"
   ]
  },
  {
   "cell_type": "markdown",
   "metadata": {},
   "source": [
    "# Questão 8"
   ]
  },
  {
   "cell_type": "code",
   "execution_count": 16,
   "metadata": {},
   "outputs": [],
   "source": [
    "def valor_mao(mao):\n",
    "    return sum([0 if x[0] in ['10', 'J', 'Q', 'K'] else 1 if x[0] == 'A' else int(x[0]) for x in mao]) % 10\n",
    "\n",
    "assert valor_mao([('J','♡'), ('5','§'), ('10','♢')]) == 5\n",
    "assert valor_mao([('A','♡'), ('Q','§')]) == 1\n",
    "assert valor_mao([('A','♡'), ('2','§'), ('A','♢')]) == 4"
   ]
  },
  {
   "cell_type": "markdown",
   "metadata": {},
   "source": [
    "# Questão 9"
   ]
  },
  {
   "cell_type": "code",
   "execution_count": 17,
   "metadata": {},
   "outputs": [],
   "source": [
    "def descartar(k, dq, mao, cond):\n",
    "    if cond:\n",
    "        return dq[k:], mao + dq[:k]\n",
    "    return dq, mao\n",
    "\n",
    "dq = [('6','§'), ('8','♢'), ('A','a'), ('6','a')]\n",
    "dq, mao = descartar(2, dq, [('10','a'), ('K','§')], len(dq) >=2)\n",
    "\n",
    "assert dq == [('A','a'), ('6','a')]\n",
    "assert mao == [('10','a'), ('K','§'), ('6','§'), ('8','♢')]"
   ]
  },
  {
   "cell_type": "markdown",
   "metadata": {},
   "source": [
    "# Questão 10"
   ]
  },
  {
   "cell_type": "code",
   "execution_count": 18,
   "metadata": {},
   "outputs": [],
   "source": [
    "third_card_table = [\n",
    "    [False, False, False, False, False, False, False, False, False, False],\n",
    "    [False, False, False, False, False, False, False, False, False, False],\n",
    "    [False, False, False, False, False, False, False, False, False, False],\n",
    "    [False, False, False, False, False, False, True, True, False, False],\n",
    "    [False, False, False, False, True, True, True, True, False, False],\n",
    "    [False, False, True, True, True, True, True, True, False, False],\n",
    "    [True, True, True, True, True, True, True, True, False, True],\n",
    "    [True, True, True, True, True, True, True, True, True, True],\n",
    "    [True, True, True, True, True, True, True, True, True, True],\n",
    "    [True, True, True, True, True, True, True, True, True, True]\n",
    "]\n",
    "\n",
    "def tira_outra(vmm, vmj):\n",
    "    return third_card_table[vmm][vmj]"
   ]
  },
  {
   "cell_type": "markdown",
   "metadata": {},
   "source": [
    "# Questão 11"
   ]
  },
  {
   "cell_type": "code",
   "execution_count": 19,
   "metadata": {},
   "outputs": [],
   "source": [
    "def pontos(aposta, vmj, vmm):\n",
    "    if aposta == -1:\n",
    "        if vmj > vmm:\n",
    "            return -1\n",
    "        if vmj < vmm:\n",
    "            return 0.95\n",
    "        return 0\n",
    "    elif aposta == 1:\n",
    "        if vmj > vmm:\n",
    "            return 0.95\n",
    "        if vmj < vmm:\n",
    "            return -1\n",
    "        return 0\n",
    "    elif aposta == 0:\n",
    "        if vmj == vmm:\n",
    "            return 8\n",
    "        return -1\n",
    "\n",
    "assert pontos(-1, 7, 8) == 0.95\n",
    "assert pontos(-1, 8, 7) == -1\n",
    "\n",
    "assert pontos(1, 7, 8) == -1\n",
    "assert pontos(1, 8, 7) == 0.95\n",
    "\n",
    "assert pontos(0, 7, 8) == -1\n",
    "assert pontos(0, 7, 7) == 8"
   ]
  },
  {
   "cell_type": "code",
   "execution_count": 20,
   "metadata": {},
   "outputs": [],
   "source": [
    "def bacara(deque):\n",
    "    deque = deque_embaralhado(4 * deque)\n",
    "    print ('Bem vindo ao jogo de bacara!')\n",
    "    rodadas(deque, 0.0)\n",
    "\n",
    "def rodada(deque, aposta):\n",
    "    deque, mjogador = descartar(2, deque, [], len(deque) >= 2)\n",
    "    deque, mmesa = descartar(2, deque, [], len(deque) >= 2)\n",
    "    vmj = valor_mao(mjogador)\n",
    "    vmm = valor_mao(mmesa)\n",
    "    print(' Sua mao: [', lista(mjogador), '] =', vmj)\n",
    "    print(' Mesa: [', lista(mmesa), '] =', vmm)\n",
    "    deque, mjogador = descartar(1, deque, mjogador,\n",
    "\n",
    "    len(deque) >= 1 and vmj < 6)\n",
    "\n",
    "    vmj = valor_mao(mjogador)\n",
    "    print(' Nova mao: [', lista(mjogador), '] =', vmj)\n",
    "    deque, mmesa = descartar(1, deque, mmesa,\n",
    "\n",
    "    len(deque) >= 1 and tira_outra(vmm, vmj))\n",
    "\n",
    "    vmm = valor_mao(mmesa)\n",
    "    print('Nova Mesa: [', lista(mmesa), '] =', vmm)\n",
    "    return pontos(aposta, vmj, vmm), deque\n",
    "\n",
    "def rodadas(deque, ptos):\n",
    "    if len(deque) > 1:\n",
    "        aposta = input('No que aposta (-1: mesa, 1: voce, 0: empate)? [-1] ')\n",
    "        aposta = -1 if not aposta else int(aposta)\n",
    "        pt, deque = rodada(deque, aposta)\n",
    "        print('Pontuacao rodada:', pt)\n",
    "        print(' global:', ptos + pt)\n",
    "        resp = input('Outra rodada? [s] ')\n",
    "        if not (resp in ['s', 'S', '']):\n",
    "            return\n",
    "        rodadas(deque, ptos + pt)"
   ]
  },
  {
   "cell_type": "code",
   "execution_count": 21,
   "metadata": {},
   "outputs": [
    {
     "name": "stdout",
     "output_type": "stream",
     "text": [
      "Bem vindo ao jogo de bacara!\n",
      " Sua mao: [ 7♣ 10♢ ] = 7\n",
      " Mesa: [ 8♠ K♡ ] = 8\n",
      " Nova mao: [ 7♣ 10♢ ] = 7\n",
      "Nova Mesa: [ 8♠ K♡ 9♣ ] = 7\n",
      "Pontuacao rodada: 0\n",
      " global: 0.0\n",
      " Sua mao: [ 6♡ 9♣ ] = 5\n",
      " Mesa: [ 6♡ 10♠ ] = 6\n",
      " Nova mao: [ 6♡ 9♣ Q♡ ] = 5\n",
      "Nova Mesa: [ 6♡ 10♠ 8♠ ] = 4\n",
      "Pontuacao rodada: -1\n",
      " global: -1.0\n",
      " Sua mao: [ 8♣ A♣ ] = 9\n",
      " Mesa: [ 7♣ 2♠ ] = 9\n",
      " Nova mao: [ 8♣ A♣ ] = 9\n",
      "Nova Mesa: [ 7♣ 2♠ 9♣ ] = 8\n",
      "Pontuacao rodada: -1\n",
      " global: -2.0\n",
      " Sua mao: [ J♡ 5♢ ] = 5\n",
      " Mesa: [ 5♠ A♣ ] = 6\n",
      " Nova mao: [ J♡ 5♢ Q♠ ] = 5\n",
      "Nova Mesa: [ 5♠ A♣ A♡ ] = 7\n",
      "Pontuacao rodada: 0.95\n",
      " global: -1.05\n",
      " Sua mao: [ 6♣ 8♡ ] = 4\n",
      " Mesa: [ 5♢ A♡ ] = 6\n",
      " Nova mao: [ 6♣ 8♡ Q♡ ] = 4\n",
      "Nova Mesa: [ 5♢ A♡ 4♢ ] = 0\n",
      "Pontuacao rodada: -1\n",
      " global: -2.05\n",
      " Sua mao: [ 8♢ Q♠ ] = 8\n",
      " Mesa: [ 7♣ 7♡ ] = 4\n",
      " Nova mao: [ 8♢ Q♠ ] = 8\n",
      "Nova Mesa: [ 7♣ 7♡ ] = 4\n",
      "Pontuacao rodada: -1\n",
      " global: -3.05\n",
      " Sua mao: [ J♢ 10♡ ] = 0\n",
      " Mesa: [ 2♢ A♡ ] = 3\n",
      " Nova mao: [ J♢ 10♡ 9♢ ] = 9\n",
      "Nova Mesa: [ 2♢ A♡ ] = 3\n",
      "Pontuacao rodada: -1\n",
      " global: -4.05\n",
      " Sua mao: [ 5♡ 4♣ ] = 9\n",
      " Mesa: [ 8♠ 2♢ ] = 0\n",
      " Nova mao: [ 5♡ 4♣ ] = 9\n",
      "Nova Mesa: [ 8♠ 2♢ ] = 0\n",
      "Pontuacao rodada: -1\n",
      " global: -5.05\n"
     ]
    }
   ],
   "source": [
    "# bacara(baralho)"
   ]
  },
  {
   "cell_type": "markdown",
   "metadata": {},
   "source": [
    "# Introdução e aprendizado de uma nova linguagem"
   ]
  },
  {
   "cell_type": "markdown",
   "metadata": {},
   "source": [
    "`pip install kotlin-jupyter-kernel`"
   ]
  },
  {
   "cell_type": "code",
   "execution_count": null,
   "metadata": {},
   "outputs": [],
   "source": []
  }
 ],
 "metadata": {
  "kernelspec": {
   "display_name": "opencaster",
   "language": "python",
   "name": "python3"
  },
  "language_info": {
   "codemirror_mode": {
    "name": "ipython",
    "version": 3
   },
   "file_extension": ".py",
   "mimetype": "text/x-python",
   "name": "python",
   "nbconvert_exporter": "python",
   "pygments_lexer": "ipython3",
   "version": "3.12.7"
  }
 },
 "nbformat": 4,
 "nbformat_minor": 2
}
