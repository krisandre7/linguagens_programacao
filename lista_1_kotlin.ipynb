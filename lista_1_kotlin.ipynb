{
 "cells": [
  {
   "cell_type": "markdown",
   "metadata": {},
   "source": [
    "# Introdução e aprendizado de uma nova linguagem"
   ]
  },
  {
   "cell_type": "markdown",
   "metadata": {},
   "source": [
    "Alunos:\n",
    "- Kristhian André Oliveira Aguilar (22052628)"
   ]
  },
  {
   "cell_type": "markdown",
   "metadata": {},
   "source": [
    "`pip install kotlin-jupyter-kernel`"
   ]
  },
  {
   "cell_type": "markdown",
   "metadata": {},
   "source": [
    "# Questão 1"
   ]
  },
  {
   "cell_type": "code",
   "execution_count": 35,
   "metadata": {},
   "outputs": [
    {
     "name": "stdout",
     "output_type": "stream",
     "text": [
      "Mary is 20 years old."
     ]
    }
   ],
   "source": [
    "val name = \"Mary\"\n",
    "val age = 20\n",
    "\n",
    "print(\"${name} is ${age} years old.\") // Mary is 20 years old."
   ]
  },
  {
   "cell_type": "code",
   "execution_count": 36,
   "metadata": {},
   "outputs": [
    {
     "name": "stdout",
     "output_type": "stream",
     "text": [
      "true\n",
      "true\n"
     ]
    },
    {
     "data": {
      "text/plain": [
       "true"
      ]
     },
     "execution_count": 36,
     "metadata": {},
     "output_type": "execute_result"
    }
   ],
   "source": [
    "val vogais = listOf('a', 'e', 'i', 'o', 'u')\n",
    "fun contaSilabas(palavra: String): Int {\n",
    "    var silabas = 0\n",
    "    for (i in 0 until palavra.length - 1) {\n",
    "        val letra = palavra[i]\n",
    "        val letraPosterior = palavra[i+1]\n",
    "\n",
    "        // handle edge case when last letter is a vowel\n",
    "        if (i == palavra.length - 2 && vogais.contains(letraPosterior)) {\n",
    "            silabas++\n",
    "        } else if (vogais.contains(letra) && !vogais.contains(letraPosterior)) {\n",
    "            silabas++\n",
    "        }\n",
    "    }\n",
    "\n",
    "    return silabas\n",
    "}\n",
    "\n",
    "println(contaSilabas(\"banana\") == 3)\n",
    "println(contaSilabas(\"porque\") == 2)\n",
    "contaSilabas(\"mas porque tu congelas\") == 7"
   ]
  },
  {
   "cell_type": "code",
   "execution_count": 37,
   "metadata": {},
   "outputs": [
    {
     "name": "stdout",
     "output_type": "stream",
     "text": [
      "true\n"
     ]
    }
   ],
   "source": [
    "fun haiku(poema: String): Int {\n",
    "    val linhas = poema.split(\"/\")\n",
    "\n",
    "    // verifica se o poema tem 3 linhas\n",
    "    if (linhas.size != 3) {\n",
    "        println(\"O poema deve ter 3 linhas.\")\n",
    "        return -1\n",
    "    }\n",
    "\n",
    "    if (contaSilabas(linhas[0]) != 5) {\n",
    "        println(\"A primeira linha deve ter 5 sílabas.\")\n",
    "        return 1\n",
    "    }\n",
    "\n",
    "    if (contaSilabas(linhas[1]) != 7) {\n",
    "        println(\"A segunda linha deve ter 7 sílabas.\")\n",
    "        return 2\n",
    "    }\n",
    "\n",
    "    if (contaSilabas(linhas[2]) != 5) {\n",
    "        println(\"A terceira linha deve ter 5 sílabas.\")\n",
    "        return 3\n",
    "    }\n",
    "\n",
    "    return 0\n",
    "}\n",
    "\n",
    "println(haiku(\"Sol de inverno/mas porque tu congelas/a minha sombra\") == 0)"
   ]
  },
  {
   "cell_type": "code",
   "execution_count": 38,
   "metadata": {},
   "outputs": [],
   "source": [
    "fun cripto(textoChave: String, mensagem: String): String {\n",
    "    val frequencia = mutableMapOf<Char, Int>()\n",
    "    for (letra in textoChave) {\n",
    "        frequencia[letra] = frequencia.getOrDefault(letra, 0) + 1\n",
    "    }\n",
    "\n",
    "    val sortedFrequencia = frequencia.toList().sortedWith(compareBy({ it.second }, { it.first }))\n",
    "\n",
    "    val map = mutableMapOf<Char, Char>()\n",
    "    val alphabet = ('a'..'z').toList()\n",
    "    for (i in 0 until sortedFrequencia.size) {\n",
    "        map[alphabet[i]] = sortedFrequencia[i].first\n",
    "        map[alphabet[i].toUpperCase()] = sortedFrequencia[i].first.toUpperCase()\n",
    "    }\n",
    "\n",
    "\n",
    "    val mensagemCifrada = StringBuilder()\n",
    "    for (letra in mensagem) {\n",
    "        mensagemCifrada.append(map.getOrDefault(letra, letra))\n",
    "    }\n",
    "\n",
    "    return mensagemCifrada.toString()\n",
    "}"
   ]
  },
  {
   "cell_type": "markdown",
   "metadata": {},
   "source": [
    "# Comparação entre Kotlin e Python"
   ]
  },
  {
   "cell_type": "markdown",
   "metadata": {},
   "source": [
    "## Haiku\n",
    "```python\n",
    "vogais = ['a', 'e', 'i', 'o', 'u']\n",
    "\n",
    "def conta_silabas(palavra: str) -> int:\n",
    "    silabas = 0\n",
    "    for i in range(len(palavra) - 1):\n",
    "        letra = palavra[i]\n",
    "        letra_posterior = palavra[i + 1]\n",
    "\n",
    "        # handle edge case when last letter is a vowel\n",
    "        if i == len(palavra) - 2 and letra_posterior in vogais:\n",
    "            silabas += 1\n",
    "        elif letra in vogais and letra_posterior not in vogais:\n",
    "            silabas += 1\n",
    "\n",
    "    return silabas\n",
    "\n",
    "def haiku(poema: str) -> int:\n",
    "    linhas = poema.split(\"/\")\n",
    "\n",
    "    # verifica se o poema tem 3 linhas\n",
    "    if len(linhas) != 3:\n",
    "        print(\"O poema deve ter 3 linhas.\")\n",
    "        return -1\n",
    "\n",
    "    if conta_silabas(linhas[0]) != 5:\n",
    "        print(\"A primeira linha deve ter 5 sílabas.\")\n",
    "        return 1\n",
    "\n",
    "    if conta_silabas(linhas[1]) != 7:\n",
    "        print(\"A segunda linha deve ter 7 sílabas.\")\n",
    "        return 2\n",
    "\n",
    "    if conta_silabas(linhas[2]) != 5:\n",
    "        print(\"A terceira linha deve ter 5 sílabas.\")\n",
    "        return 3\n",
    "\n",
    "    return 0\n",
    "```"
   ]
  },
  {
   "cell_type": "markdown",
   "metadata": {},
   "source": [
    "## Cripto\n",
    "```python\n",
    "from collections import defaultdict\n",
    "\n",
    "def cripto(texto_chave: str, mensagem: str) -> str:\n",
    "    # Frequência de cada letra no texto-chave\n",
    "    frequencia = defaultdict(int)\n",
    "    for letra in texto_chave:\n",
    "        frequencia[letra] += 1\n",
    "\n",
    "    # Ordena as letras pela frequência e pela letra (caso haja empates)\n",
    "    sorted_frequencia = sorted(frequencia.items(), key=lambda x: (x[1], x[0]))\n",
    "\n",
    "    # Cria o mapeamento entre o alfabeto e as letras de frequência\n",
    "    map_letras = {}\n",
    "    alphabet = [chr(i) for i in range(ord('a'), ord('z') + 1)]\n",
    "    for i in range(len(sorted_frequencia)):\n",
    "        map_letras[alphabet[i]] = sorted_frequencia[i][0]\n",
    "        map_letras[alphabet[i].upper()] = sorted_frequencia[i][0].upper()\n",
    "\n",
    "    # Cifra a mensagem com o mapa criado\n",
    "    mensagem_cifrada = []\n",
    "    for letra in mensagem:\n",
    "        mensagem_cifrada.append(map_letras.get(letra, letra))\n",
    "\n",
    "    return ''.join(mensagem_cifrada)\n",
    "```"
   ]
  },
  {
   "cell_type": "markdown",
   "metadata": {},
   "source": [
    "## Comparação\n",
    "\n",
    "### Legibilidade, Escrita, Confiabilidade\n",
    "- Kotlin é uma linguagem mais verbosa que Python, o que pode ser bom para legibilidade e escrita de código, mas pode ser ruim para a confiabilidade, pois há mais chances de erros de digitação.\n",
    "### Simplicidade, Ortogonalidade, Tipos de Dados, Projeto de Sintaxe, Suporte à Abstração, Expressividade, Checagem de Tipos, Manipulação de Exceções e Restrição de Aliases\n",
    "- Kotlin é uma linguagem mais complexa que Python, mas possui uma ortogonalidade maior, pois possui menos exceções e restrições de aliases. Além disso, Kotlin possui tipos de dados mais fortes e suporte à abstração, o que pode ser bom para projetos maiores e mais complexos."
   ]
  }
 ],
 "metadata": {
  "kernelspec": {
   "display_name": "Kotlin",
   "language": "kotlin",
   "name": "kotlin"
  },
  "language_info": {
   "codemirror_mode": "text/x-kotlin",
   "file_extension": ".kt",
   "mimetype": "text/x-kotlin",
   "name": "kotlin",
   "nbconvert_exporter": "",
   "pygments_lexer": "kotlin",
   "version": "1.9.23"
  }
 },
 "nbformat": 4,
 "nbformat_minor": 2
}
